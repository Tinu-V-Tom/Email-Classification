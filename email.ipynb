{
 "cells": [
  {
   "cell_type": "code",
   "execution_count": 1,
   "metadata": {},
   "outputs": [],
   "source": [
    "import numpy as np\n",
    "import pandas as pd\n",
    "from sklearn.model_selection import train_test_split\n",
    "from sklearn.feature_extraction.text import TfidfVectorizer\n",
    "from sklearn.linear_model import LogisticRegression\n",
    "from sklearn.metrics import accuracy_score"
   ]
  },
  {
   "cell_type": "code",
   "execution_count": 2,
   "metadata": {},
   "outputs": [],
   "source": [
    "df=pd.read_csv(\"mail_data.csv\")"
   ]
  },
  {
   "cell_type": "code",
   "execution_count": 3,
   "metadata": {},
   "outputs": [
    {
     "data": {
      "text/html": [
       "<div>\n",
       "<style scoped>\n",
       "    .dataframe tbody tr th:only-of-type {\n",
       "        vertical-align: middle;\n",
       "    }\n",
       "\n",
       "    .dataframe tbody tr th {\n",
       "        vertical-align: top;\n",
       "    }\n",
       "\n",
       "    .dataframe thead th {\n",
       "        text-align: right;\n",
       "    }\n",
       "</style>\n",
       "<table border=\"1\" class=\"dataframe\">\n",
       "  <thead>\n",
       "    <tr style=\"text-align: right;\">\n",
       "      <th></th>\n",
       "      <th>Category</th>\n",
       "      <th>Message</th>\n",
       "    </tr>\n",
       "  </thead>\n",
       "  <tbody>\n",
       "    <tr>\n",
       "      <th>0</th>\n",
       "      <td>ham</td>\n",
       "      <td>Go until jurong point, crazy.. Available only ...</td>\n",
       "    </tr>\n",
       "    <tr>\n",
       "      <th>1</th>\n",
       "      <td>ham</td>\n",
       "      <td>Ok lar... Joking wif u oni...</td>\n",
       "    </tr>\n",
       "    <tr>\n",
       "      <th>2</th>\n",
       "      <td>spam</td>\n",
       "      <td>Free entry in 2 a wkly comp to win FA Cup fina...</td>\n",
       "    </tr>\n",
       "    <tr>\n",
       "      <th>3</th>\n",
       "      <td>ham</td>\n",
       "      <td>U dun say so early hor... U c already then say...</td>\n",
       "    </tr>\n",
       "    <tr>\n",
       "      <th>4</th>\n",
       "      <td>ham</td>\n",
       "      <td>Nah I don't think he goes to usf, he lives aro...</td>\n",
       "    </tr>\n",
       "  </tbody>\n",
       "</table>\n",
       "</div>"
      ],
      "text/plain": [
       "  Category                                            Message\n",
       "0      ham  Go until jurong point, crazy.. Available only ...\n",
       "1      ham                      Ok lar... Joking wif u oni...\n",
       "2     spam  Free entry in 2 a wkly comp to win FA Cup fina...\n",
       "3      ham  U dun say so early hor... U c already then say...\n",
       "4      ham  Nah I don't think he goes to usf, he lives aro..."
      ]
     },
     "execution_count": 3,
     "metadata": {},
     "output_type": "execute_result"
    }
   ],
   "source": [
    "df.head()"
   ]
  },
  {
   "cell_type": "code",
   "execution_count": 4,
   "metadata": {},
   "outputs": [
    {
     "data": {
      "text/plain": [
       "Category    0\n",
       "Message     0\n",
       "dtype: int64"
      ]
     },
     "execution_count": 4,
     "metadata": {},
     "output_type": "execute_result"
    }
   ],
   "source": [
    "df.isnull().sum()"
   ]
  },
  {
   "cell_type": "code",
   "execution_count": 5,
   "metadata": {},
   "outputs": [
    {
     "data": {
      "text/plain": [
       "(5572, 2)"
      ]
     },
     "execution_count": 5,
     "metadata": {},
     "output_type": "execute_result"
    }
   ],
   "source": [
    "df.shape"
   ]
  },
  {
   "cell_type": "code",
   "execution_count": 6,
   "metadata": {},
   "outputs": [],
   "source": [
    "#Label Encoding | Labelling spam mail as 0 and ham mail as 1\n",
    "df.loc[df[\"Category\"]==\"spam\",\"Category\"]=0\n",
    "df.loc[df[\"Category\"]==\"ham\",\"Category\"]=1"
   ]
  },
  {
   "cell_type": "code",
   "execution_count": 7,
   "metadata": {},
   "outputs": [
    {
     "name": "stdout",
     "output_type": "stream",
     "text": [
      "Spam 13.41 % of the dataset\n",
      "Ham 86.59 % of the dataset\n"
     ]
    }
   ],
   "source": [
    "print('Spam', round(df['Category'].value_counts()[0]/len(df) * 100,2), '% of the dataset')\n",
    "print('Ham', round(df['Category'].value_counts()[1]/len(df) * 100,2), '% of the dataset')"
   ]
  },
  {
   "cell_type": "code",
   "execution_count": 8,
   "metadata": {},
   "outputs": [],
   "source": [
    "x=df[\"Message\"]\n",
    "y=df[\"Category\"]"
   ]
  },
  {
   "cell_type": "code",
   "execution_count": 9,
   "metadata": {},
   "outputs": [
    {
     "data": {
      "text/plain": [
       "Text(0.5, 1.0, 'Class Distributions \\n (0: spam|| 1: ham)')"
      ]
     },
     "execution_count": 9,
     "metadata": {},
     "output_type": "execute_result"
    },
    {
     "data": {
      "image/png": "[encoded data removed]",
      "text/plain": [
       "<Figure size 640x480 with 1 Axes>"
      ]
     },
     "metadata": {},
     "output_type": "display_data"
    }
   ],
   "source": [
    "import seaborn as sns\n",
    "import matplotlib.pyplot as plt\n",
    "sns.countplot(x='Category',data =df)\n",
    "plt.title('Class Distributions \\n (0: spam|| 1: ham)', fontsize=14)"
   ]
  },
  {
   "cell_type": "code",
   "execution_count": 10,
   "metadata": {},
   "outputs": [],
   "source": [
    "xtrain,xtest,ytrain,ytest=train_test_split(x,y,test_size=0.2,random_state=34,stratify=y)"
   ]
  },
  {
   "cell_type": "code",
   "execution_count": 11,
   "metadata": {},
   "outputs": [
    {
     "data": {
      "text/plain": [
       "Category\n",
       "1    3859\n",
       "0     598\n",
       "Name: count, dtype: int64"
      ]
     },
     "execution_count": 11,
     "metadata": {},
     "output_type": "execute_result"
    }
   ],
   "source": [
    "ytrain.value_counts()"
   ]
  },
  {
   "cell_type": "code",
   "execution_count": 12,
   "metadata": {},
   "outputs": [],
   "source": [
    "#converting text data into feature vectors so it can be passed into the model\n",
    "feature_extraction = TfidfVectorizer(min_df = 1, stop_words='english', lowercase=True)\n",
    "x_train=feature_extraction.fit_transform(xtrain)\n",
    "x_test=feature_extraction.transform(xtest)"
   ]
  },
  {
   "cell_type": "code",
   "execution_count": 13,
   "metadata": {},
   "outputs": [],
   "source": [
    "ytrain=ytrain.astype(\"int\")\n",
    "ytest=ytest.astype(\"int\")"
   ]
  },
  {
   "cell_type": "code",
   "execution_count": 23,
   "metadata": {},
   "outputs": [],
   "source": [
    "#here the problem of class imbalance is present so it can be rectified by using smote\n",
    "from imblearn.over_sampling import SMOTE\n",
    "smote=SMOTE(random_state=28)\n",
    "x_train,ytrain=smote.fit_resample(x_train,ytrain)\n",
    "x_test,ytest=smote.fit_resample(x_test,ytest)"
   ]
  },
  {
   "cell_type": "code",
   "execution_count": 24,
   "metadata": {},
   "outputs": [
    {
     "data": {
      "text/plain": [
       "Category\n",
       "1    3859\n",
       "0    3859\n",
       "Name: count, dtype: int64"
      ]
     },
     "execution_count": 24,
     "metadata": {},
     "output_type": "execute_result"
    }
   ],
   "source": [
    "ytrain.value_counts()"
   ]
  },
  {
   "cell_type": "code",
   "execution_count": 25,
   "metadata": {},
   "outputs": [],
   "source": [
    "from sklearn.linear_model import LogisticRegression\n",
    "from sklearn.svm import SVC\n",
    "from sklearn.tree import DecisionTreeClassifier\n",
    "from sklearn.neighbors import KNeighborsClassifier\n",
    "from sklearn.metrics import accuracy_score,confusion_matrix,classification_report"
   ]
  },
  {
   "cell_type": "code",
   "execution_count": 26,
   "metadata": {},
   "outputs": [
    {
     "name": "stdout",
     "output_type": "stream",
     "text": [
      "logistic Regression\n",
      "accuracy_score : 0.9296066252587992 \n",
      "\n",
      "confusion matrix: [[839 127]\n",
      " [  9 957]]\n",
      "\n",
      "classification report :               precision    recall  f1-score   support\n",
      "\n",
      "           0       0.99      0.87      0.93       966\n",
      "           1       0.88      0.99      0.93       966\n",
      "\n",
      "    accuracy                           0.93      1932\n",
      "   macro avg       0.94      0.93      0.93      1932\n",
      "weighted avg       0.94      0.93      0.93      1932\n",
      "\n",
      "\n",
      "____________________________________________________________________________________________________\n",
      "SVC\n",
      "accuracy_score : 0.9425465838509317 \n",
      "\n",
      "confusion matrix: [[857 109]\n",
      " [  2 964]]\n",
      "\n",
      "classification report :               precision    recall  f1-score   support\n",
      "\n",
      "           0       1.00      0.89      0.94       966\n",
      "           1       0.90      1.00      0.95       966\n",
      "\n",
      "    accuracy                           0.94      1932\n",
      "   macro avg       0.95      0.94      0.94      1932\n",
      "weighted avg       0.95      0.94      0.94      1932\n",
      "\n",
      "\n",
      "____________________________________________________________________________________________________\n",
      "KNN\n",
      "accuracy_score : 0.8126293995859213 \n",
      "\n",
      "confusion matrix: [[604 362]\n",
      " [  0 966]]\n",
      "\n",
      "classification report :               precision    recall  f1-score   support\n",
      "\n",
      "           0       1.00      0.63      0.77       966\n",
      "           1       0.73      1.00      0.84       966\n",
      "\n",
      "    accuracy                           0.81      1932\n",
      "   macro avg       0.86      0.81      0.81      1932\n",
      "weighted avg       0.86      0.81      0.81      1932\n",
      "\n",
      "\n",
      "____________________________________________________________________________________________________\n",
      "Decision Tree\n",
      "accuracy_score : 0.9503105590062112 \n",
      "\n",
      "confusion matrix: [[887  79]\n",
      " [ 17 949]]\n",
      "\n",
      "classification report :               precision    recall  f1-score   support\n",
      "\n",
      "           0       0.98      0.92      0.95       966\n",
      "           1       0.92      0.98      0.95       966\n",
      "\n",
      "    accuracy                           0.95      1932\n",
      "   macro avg       0.95      0.95      0.95      1932\n",
      "weighted avg       0.95      0.95      0.95      1932\n",
      "\n",
      "\n",
      "____________________________________________________________________________________________________\n"
     ]
    }
   ],
   "source": [
    "models={\n",
    "    'logistic Regression' :LogisticRegression(),\n",
    "    'SVC':SVC(),\n",
    "    'KNN':KNeighborsClassifier(),\n",
    "    'Decision Tree':DecisionTreeClassifier()    \n",
    "     }\n",
    "\n",
    "for name,md in models.items():\n",
    "    print(name)\n",
    "    md.fit(x_train,ytrain)\n",
    "    y_pred=md.predict(x_test)\n",
    "    print(f\"accuracy_score : {accuracy_score(ytest,y_pred)} \\n\")\n",
    "    print(f\"confusion matrix: {confusion_matrix(ytest,y_pred)}\\n\")\n",
    "    print(f\"classification report : {classification_report(ytest,y_pred)}\\n\")\n",
    "    print('__'*50)"
   ]
  },
  {
   "cell_type": "code",
   "execution_count": 28,
   "metadata": {},
   "outputs": [
    {
     "name": "stdout",
     "output_type": "stream",
     "text": [
      "Accuracy score:  0.9528985507246377\n"
     ]
    }
   ],
   "source": [
    "model=DecisionTreeClassifier()\n",
    "m1=model.fit(x_train,ytrain)\n",
    "ypred=m1.predict(x_test)\n",
    "print(\"Accuracy score: \",accuracy_score(ytest,ypred))"
   ]
  },
  {
   "cell_type": "code",
   "execution_count": 29,
   "metadata": {},
   "outputs": [
    {
     "name": "stdout",
     "output_type": "stream",
     "text": [
      "Not a Spam Mail\n"
     ]
    }
   ],
   "source": [
    "mail=[\"I've been searching for the right words to thank you for this breather. I promise i wont take your help for granted and will fulfil my promise. You have been wonderful and a blessing at all times\"]\n",
    "mail=feature_extraction.transform(mail)\n",
    "pred=m1.predict(mail)\n",
    "\n",
    "\n",
    "if pred==[1]:\n",
    "    print(\"Not a Spam Mail\")\n",
    "else:\n",
    "    print(\"Spam Mail\")"
   ]
  },
  {
   "cell_type": "code",
   "execution_count": 30,
   "metadata": {},
   "outputs": [],
   "source": [
    "import pickle \n",
    "pickle.dump(m1,open(\"m1.pkl\",\"wb\"))\n",
    "pickle.dump(feature_extraction,open(\"feature_extraction.pkl\",\"wb\"))"
   ]
  },
  {
   "cell_type": "code",
   "execution_count": null,
   "metadata": {},
   "outputs": [],
   "source": []
  }
 ],
 "metadata": {
  "kernelspec": {
   "display_name": "Python 3",
   "language": "python",
   "name": "python3"
  },
  "language_info": {
   "codemirror_mode": {
    "name": "ipython",
    "version": 3
   },
   "file_extension": ".py",
   "mimetype": "text/x-python",
   "name": "python",
   "nbconvert_exporter": "python",
   "pygments_lexer": "ipython3",
   "version": "3.12.3"
  }
 },
 "nbformat": 4,
 "nbformat_minor": 2
}
